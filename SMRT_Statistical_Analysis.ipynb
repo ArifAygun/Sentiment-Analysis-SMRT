{
  "nbformat": 4,
  "nbformat_minor": 0,
  "metadata": {
    "colab": {
      "provenance": [],
      "authorship_tag": "ABX9TyNBgRXBZhQeOJy4f7K7uNa6",
      "include_colab_link": true
    },
    "kernelspec": {
      "name": "python3",
      "display_name": "Python 3"
    },
    "language_info": {
      "name": "python"
    }
  },
  "cells": [
    {
      "cell_type": "markdown",
      "metadata": {
        "id": "view-in-github",
        "colab_type": "text"
      },
      "source": [
        "<a href=\"https://colab.research.google.com/github/ArifAygun/Sentiment-Analysis-SMRT/blob/main/SMRT_Statistical_Analysis.ipynb\" target=\"_parent\"><img src=\"https://colab.research.google.com/assets/colab-badge.svg\" alt=\"Open In Colab\"/></a>"
      ]
    },
    {
      "cell_type": "code",
      "execution_count": 184,
      "metadata": {
        "colab": {
          "base_uri": "https://localhost:8080/"
        },
        "id": "PHHa63S7NpXC",
        "outputId": "223e1579-1ce5-4a29-c98a-f2ee23d27f21"
      },
      "outputs": [
        {
          "output_type": "stream",
          "name": "stdout",
          "text": [
            "Drive already mounted at /content/drive/; to attempt to forcibly remount, call drive.mount(\"/content/drive/\", force_remount=True).\n",
            "/content/drive/My Drive/Web_Scraping/SMRT\n"
          ]
        }
      ],
      "source": [
        "import pandas as pd\n",
        "import numpy as np\n",
        "import seaborn as sns\n",
        "import matplotlib.pyplot as plt\n",
        "\n",
        "from google.colab import drive\n",
        "drive.mount('/content/drive/')\n",
        "%cd /content/drive/My Drive/Web_Scraping/SMRT/"
      ]
    },
    {
      "cell_type": "code",
      "source": [
        "reviews= pd.read_excel('Capterra_SMRT_Final.xlsx', 'Final')"
      ],
      "metadata": {
        "id": "VUIt4P3zN6XR"
      },
      "execution_count": 185,
      "outputs": []
    },
    {
      "cell_type": "code",
      "source": [
        "reviews.head().transpose()"
      ],
      "metadata": {
        "colab": {
          "base_uri": "https://localhost:8080/",
          "height": 812
        },
        "id": "WkAQHMhSPboa",
        "outputId": "3d6a6f7a-1297-414d-93b3-5017f87e12bd"
      },
      "execution_count": 186,
      "outputs": [
        {
          "output_type": "execute_result",
          "data": {
            "text/plain": [
              "                                                                         0  \\\n",
              "Date                                                   2019-08-20 00:00:00   \n",
              "User Name                                                        Joshua V.   \n",
              "User Position                                                          Ceo   \n",
              "Department                             Information Technology and Services   \n",
              "Employees                                                             1-10   \n",
              "Use Period                                              Less than 6 months   \n",
              "Overall Rating                                                           5   \n",
              "Ease of Use                                                              5   \n",
              "Customer Service                                                         5   \n",
              "Features                                                                 5   \n",
              "Value for Money                                                        5.0   \n",
              "Likelihood to Recommend                                                 10   \n",
              "Headline                                                 Great alternative   \n",
              "Overall Rev                                                            NaN   \n",
              "Pros                     The garment tracking system is a huge plus bu ...   \n",
              "Cons                     There is no trial period, only an online demo....   \n",
              "Alternative Considered                                                 NaN   \n",
              "Reasons for Choosing     SMRT has far better features and is more cost ...   \n",
              "Switched From                                                          NaN   \n",
              "Reasons for Switching    Because cleansuite does not support cloud base...   \n",
              "Vendor Response                                                        NaN   \n",
              "\n",
              "                                                                         1  \\\n",
              "Date                                                   2020-06-18 00:00:00   \n",
              "User Name                                                        Daniel C.   \n",
              "User Position                                                        Owner   \n",
              "Department                                               Consumer Services   \n",
              "Employees                                                            11-50   \n",
              "Use Period                                                        2+ years   \n",
              "Overall Rating                                                           5   \n",
              "Ease of Use                                                              5   \n",
              "Customer Service                                                         5   \n",
              "Features                                                                 5   \n",
              "Value for Money                                                        5.0   \n",
              "Likelihood to Recommend                                                 10   \n",
              "Headline                                                    Second to none   \n",
              "Overall Rev              I have been able to control and manage my busi...   \n",
              "Pros                     Having the ability to seamlessly run all facet...   \n",
              "Cons                     As with any transition or change, it takes tim...   \n",
              "Alternative Considered                                                 NaN   \n",
              "Reasons for Choosing                                                   NaN   \n",
              "Switched From                                                          NaN   \n",
              "Reasons for Switching    Lack of customer support, lack of transparent ...   \n",
              "Vendor Response                                                        NaN   \n",
              "\n",
              "                                                                         2  \\\n",
              "Date                                                   2020-08-10 00:00:00   \n",
              "User Name                                                          Kyle M.   \n",
              "User Position                                       Director of Operations   \n",
              "Department                                               Consumer Services   \n",
              "Employees                                                            11-50   \n",
              "Use Period                                                       1-2 years   \n",
              "Overall Rating                                                           5   \n",
              "Ease of Use                                                              5   \n",
              "Customer Service                                                         5   \n",
              "Features                                                                 5   \n",
              "Value for Money                                                        5.0   \n",
              "Likelihood to Recommend                                                 10   \n",
              "Headline                                      SMRT POS is Just Plain Smart   \n",
              "Overall Rev              In my opinion, a POS is only as good as the su...   \n",
              "Pros                     Bringing new team members up to speed is very ...   \n",
              "Cons                     When we signed on a year and a half ago, the s...   \n",
              "Alternative Considered                                          Xplor Spot   \n",
              "Reasons for Choosing     For us, choosing a new POS was all about provi...   \n",
              "Switched From                                                   Compassmax   \n",
              "Reasons for Switching    CompassMAX was retired and is no longer being ...   \n",
              "Vendor Response                                                        NaN   \n",
              "\n",
              "                                                                         3  \\\n",
              "Date                                                   2020-08-10 00:00:00   \n",
              "User Name                                                         Jason Y.   \n",
              "User Position                                               Vice President   \n",
              "Department                                                          Retail   \n",
              "Employees                                                           51-200   \n",
              "Use Period                                                        2+ years   \n",
              "Overall Rating                                                           5   \n",
              "Ease of Use                                                              5   \n",
              "Customer Service                                                         5   \n",
              "Features                                                                 5   \n",
              "Value for Money                                                        5.0   \n",
              "Likelihood to Recommend                                                 10   \n",
              "Headline                                 Exceptional POS for Dry Cleaners!   \n",
              "Overall Rev              My overall experience with SMRT has been fanta...   \n",
              "Pros                     What I like most about the software is it's a ...   \n",
              "Cons                     In the beginning I did not like the terminals ...   \n",
              "Alternative Considered                                                 NaN   \n",
              "Reasons for Choosing                                                   NaN   \n",
              "Switched From                                                   Xplor Spot   \n",
              "Reasons for Switching    Spot was not innovating and keeping up with cu...   \n",
              "Vendor Response                                                        NaN   \n",
              "\n",
              "                                                                         4  \n",
              "Date                                                   2020-08-10 00:00:00  \n",
              "User Name                                                           Amy W.  \n",
              "User Position                                                      Manager  \n",
              "Department                        Policies and ProceduresConsumer Services  \n",
              "Employees                                                            11-50  \n",
              "Use Period                                                        2+ years  \n",
              "Overall Rating                                                           5  \n",
              "Ease of Use                                                              4  \n",
              "Customer Service                                                         5  \n",
              "Features                                                                 4  \n",
              "Value for Money                                                        5.0  \n",
              "Likelihood to Recommend                                                  9  \n",
              "Headline                                                Fantastic product!  \n",
              "Overall Rev              We have been very happy, overall, and would hi...  \n",
              "Pros                     SMRT has made our business much more efficient...  \n",
              "Cons                     The frequent updates can take some adjustment ...  \n",
              "Alternative Considered                                                 NaN  \n",
              "Reasons for Choosing                                                   NaN  \n",
              "Switched From                                                          NaN  \n",
              "Reasons for Switching                                                  NaN  \n",
              "Vendor Response                                                        NaN  "
            ],
            "text/html": [
              "\n",
              "  <div id=\"df-10ca5754-09cd-4a1a-a277-50695a8bea6a\" class=\"colab-df-container\">\n",
              "    <div>\n",
              "<style scoped>\n",
              "    .dataframe tbody tr th:only-of-type {\n",
              "        vertical-align: middle;\n",
              "    }\n",
              "\n",
              "    .dataframe tbody tr th {\n",
              "        vertical-align: top;\n",
              "    }\n",
              "\n",
              "    .dataframe thead th {\n",
              "        text-align: right;\n",
              "    }\n",
              "</style>\n",
              "<table border=\"1\" class=\"dataframe\">\n",
              "  <thead>\n",
              "    <tr style=\"text-align: right;\">\n",
              "      <th></th>\n",
              "      <th>0</th>\n",
              "      <th>1</th>\n",
              "      <th>2</th>\n",
              "      <th>3</th>\n",
              "      <th>4</th>\n",
              "    </tr>\n",
              "  </thead>\n",
              "  <tbody>\n",
              "    <tr>\n",
              "      <th>Date</th>\n",
              "      <td>2019-08-20 00:00:00</td>\n",
              "      <td>2020-06-18 00:00:00</td>\n",
              "      <td>2020-08-10 00:00:00</td>\n",
              "      <td>2020-08-10 00:00:00</td>\n",
              "      <td>2020-08-10 00:00:00</td>\n",
              "    </tr>\n",
              "    <tr>\n",
              "      <th>User Name</th>\n",
              "      <td>Joshua V.</td>\n",
              "      <td>Daniel C.</td>\n",
              "      <td>Kyle M.</td>\n",
              "      <td>Jason Y.</td>\n",
              "      <td>Amy W.</td>\n",
              "    </tr>\n",
              "    <tr>\n",
              "      <th>User Position</th>\n",
              "      <td>Ceo</td>\n",
              "      <td>Owner</td>\n",
              "      <td>Director of Operations</td>\n",
              "      <td>Vice President</td>\n",
              "      <td>Manager</td>\n",
              "    </tr>\n",
              "    <tr>\n",
              "      <th>Department</th>\n",
              "      <td>Information Technology and Services</td>\n",
              "      <td>Consumer Services</td>\n",
              "      <td>Consumer Services</td>\n",
              "      <td>Retail</td>\n",
              "      <td>Policies and ProceduresConsumer Services</td>\n",
              "    </tr>\n",
              "    <tr>\n",
              "      <th>Employees</th>\n",
              "      <td>1-10</td>\n",
              "      <td>11-50</td>\n",
              "      <td>11-50</td>\n",
              "      <td>51-200</td>\n",
              "      <td>11-50</td>\n",
              "    </tr>\n",
              "    <tr>\n",
              "      <th>Use Period</th>\n",
              "      <td>Less than 6 months</td>\n",
              "      <td>2+ years</td>\n",
              "      <td>1-2 years</td>\n",
              "      <td>2+ years</td>\n",
              "      <td>2+ years</td>\n",
              "    </tr>\n",
              "    <tr>\n",
              "      <th>Overall Rating</th>\n",
              "      <td>5</td>\n",
              "      <td>5</td>\n",
              "      <td>5</td>\n",
              "      <td>5</td>\n",
              "      <td>5</td>\n",
              "    </tr>\n",
              "    <tr>\n",
              "      <th>Ease of Use</th>\n",
              "      <td>5</td>\n",
              "      <td>5</td>\n",
              "      <td>5</td>\n",
              "      <td>5</td>\n",
              "      <td>4</td>\n",
              "    </tr>\n",
              "    <tr>\n",
              "      <th>Customer Service</th>\n",
              "      <td>5</td>\n",
              "      <td>5</td>\n",
              "      <td>5</td>\n",
              "      <td>5</td>\n",
              "      <td>5</td>\n",
              "    </tr>\n",
              "    <tr>\n",
              "      <th>Features</th>\n",
              "      <td>5</td>\n",
              "      <td>5</td>\n",
              "      <td>5</td>\n",
              "      <td>5</td>\n",
              "      <td>4</td>\n",
              "    </tr>\n",
              "    <tr>\n",
              "      <th>Value for Money</th>\n",
              "      <td>5.0</td>\n",
              "      <td>5.0</td>\n",
              "      <td>5.0</td>\n",
              "      <td>5.0</td>\n",
              "      <td>5.0</td>\n",
              "    </tr>\n",
              "    <tr>\n",
              "      <th>Likelihood to Recommend</th>\n",
              "      <td>10</td>\n",
              "      <td>10</td>\n",
              "      <td>10</td>\n",
              "      <td>10</td>\n",
              "      <td>9</td>\n",
              "    </tr>\n",
              "    <tr>\n",
              "      <th>Headline</th>\n",
              "      <td>Great alternative</td>\n",
              "      <td>Second to none</td>\n",
              "      <td>SMRT POS is Just Plain Smart</td>\n",
              "      <td>Exceptional POS for Dry Cleaners!</td>\n",
              "      <td>Fantastic product!</td>\n",
              "    </tr>\n",
              "    <tr>\n",
              "      <th>Overall Rev</th>\n",
              "      <td>NaN</td>\n",
              "      <td>I have been able to control and manage my busi...</td>\n",
              "      <td>In my opinion, a POS is only as good as the su...</td>\n",
              "      <td>My overall experience with SMRT has been fanta...</td>\n",
              "      <td>We have been very happy, overall, and would hi...</td>\n",
              "    </tr>\n",
              "    <tr>\n",
              "      <th>Pros</th>\n",
              "      <td>The garment tracking system is a huge plus bu ...</td>\n",
              "      <td>Having the ability to seamlessly run all facet...</td>\n",
              "      <td>Bringing new team members up to speed is very ...</td>\n",
              "      <td>What I like most about the software is it's a ...</td>\n",
              "      <td>SMRT has made our business much more efficient...</td>\n",
              "    </tr>\n",
              "    <tr>\n",
              "      <th>Cons</th>\n",
              "      <td>There is no trial period, only an online demo....</td>\n",
              "      <td>As with any transition or change, it takes tim...</td>\n",
              "      <td>When we signed on a year and a half ago, the s...</td>\n",
              "      <td>In the beginning I did not like the terminals ...</td>\n",
              "      <td>The frequent updates can take some adjustment ...</td>\n",
              "    </tr>\n",
              "    <tr>\n",
              "      <th>Alternative Considered</th>\n",
              "      <td>NaN</td>\n",
              "      <td>NaN</td>\n",
              "      <td>Xplor Spot</td>\n",
              "      <td>NaN</td>\n",
              "      <td>NaN</td>\n",
              "    </tr>\n",
              "    <tr>\n",
              "      <th>Reasons for Choosing</th>\n",
              "      <td>SMRT has far better features and is more cost ...</td>\n",
              "      <td>NaN</td>\n",
              "      <td>For us, choosing a new POS was all about provi...</td>\n",
              "      <td>NaN</td>\n",
              "      <td>NaN</td>\n",
              "    </tr>\n",
              "    <tr>\n",
              "      <th>Switched From</th>\n",
              "      <td>NaN</td>\n",
              "      <td>NaN</td>\n",
              "      <td>Compassmax</td>\n",
              "      <td>Xplor Spot</td>\n",
              "      <td>NaN</td>\n",
              "    </tr>\n",
              "    <tr>\n",
              "      <th>Reasons for Switching</th>\n",
              "      <td>Because cleansuite does not support cloud base...</td>\n",
              "      <td>Lack of customer support, lack of transparent ...</td>\n",
              "      <td>CompassMAX was retired and is no longer being ...</td>\n",
              "      <td>Spot was not innovating and keeping up with cu...</td>\n",
              "      <td>NaN</td>\n",
              "    </tr>\n",
              "    <tr>\n",
              "      <th>Vendor Response</th>\n",
              "      <td>NaN</td>\n",
              "      <td>NaN</td>\n",
              "      <td>NaN</td>\n",
              "      <td>NaN</td>\n",
              "      <td>NaN</td>\n",
              "    </tr>\n",
              "  </tbody>\n",
              "</table>\n",
              "</div>\n",
              "    <div class=\"colab-df-buttons\">\n",
              "\n",
              "  <div class=\"colab-df-container\">\n",
              "    <button class=\"colab-df-convert\" onclick=\"convertToInteractive('df-10ca5754-09cd-4a1a-a277-50695a8bea6a')\"\n",
              "            title=\"Convert this dataframe to an interactive table.\"\n",
              "            style=\"display:none;\">\n",
              "\n",
              "  <svg xmlns=\"http://www.w3.org/2000/svg\" height=\"24px\" viewBox=\"0 -960 960 960\">\n",
              "    <path d=\"M120-120v-720h720v720H120Zm60-500h600v-160H180v160Zm220 220h160v-160H400v160Zm0 220h160v-160H400v160ZM180-400h160v-160H180v160Zm440 0h160v-160H620v160ZM180-180h160v-160H180v160Zm440 0h160v-160H620v160Z\"/>\n",
              "  </svg>\n",
              "    </button>\n",
              "\n",
              "  <style>\n",
              "    .colab-df-container {\n",
              "      display:flex;\n",
              "      gap: 12px;\n",
              "    }\n",
              "\n",
              "    .colab-df-convert {\n",
              "      background-color: #E8F0FE;\n",
              "      border: none;\n",
              "      border-radius: 50%;\n",
              "      cursor: pointer;\n",
              "      display: none;\n",
              "      fill: #1967D2;\n",
              "      height: 32px;\n",
              "      padding: 0 0 0 0;\n",
              "      width: 32px;\n",
              "    }\n",
              "\n",
              "    .colab-df-convert:hover {\n",
              "      background-color: #E2EBFA;\n",
              "      box-shadow: 0px 1px 2px rgba(60, 64, 67, 0.3), 0px 1px 3px 1px rgba(60, 64, 67, 0.15);\n",
              "      fill: #174EA6;\n",
              "    }\n",
              "\n",
              "    .colab-df-buttons div {\n",
              "      margin-bottom: 4px;\n",
              "    }\n",
              "\n",
              "    [theme=dark] .colab-df-convert {\n",
              "      background-color: #3B4455;\n",
              "      fill: #D2E3FC;\n",
              "    }\n",
              "\n",
              "    [theme=dark] .colab-df-convert:hover {\n",
              "      background-color: #434B5C;\n",
              "      box-shadow: 0px 1px 3px 1px rgba(0, 0, 0, 0.15);\n",
              "      filter: drop-shadow(0px 1px 2px rgba(0, 0, 0, 0.3));\n",
              "      fill: #FFFFFF;\n",
              "    }\n",
              "  </style>\n",
              "\n",
              "    <script>\n",
              "      const buttonEl =\n",
              "        document.querySelector('#df-10ca5754-09cd-4a1a-a277-50695a8bea6a button.colab-df-convert');\n",
              "      buttonEl.style.display =\n",
              "        google.colab.kernel.accessAllowed ? 'block' : 'none';\n",
              "\n",
              "      async function convertToInteractive(key) {\n",
              "        const element = document.querySelector('#df-10ca5754-09cd-4a1a-a277-50695a8bea6a');\n",
              "        const dataTable =\n",
              "          await google.colab.kernel.invokeFunction('convertToInteractive',\n",
              "                                                    [key], {});\n",
              "        if (!dataTable) return;\n",
              "\n",
              "        const docLinkHtml = 'Like what you see? Visit the ' +\n",
              "          '<a target=\"_blank\" href=https://colab.research.google.com/notebooks/data_table.ipynb>data table notebook</a>'\n",
              "          + ' to learn more about interactive tables.';\n",
              "        element.innerHTML = '';\n",
              "        dataTable['output_type'] = 'display_data';\n",
              "        await google.colab.output.renderOutput(dataTable, element);\n",
              "        const docLink = document.createElement('div');\n",
              "        docLink.innerHTML = docLinkHtml;\n",
              "        element.appendChild(docLink);\n",
              "      }\n",
              "    </script>\n",
              "  </div>\n",
              "\n",
              "\n",
              "<div id=\"df-21f31e60-a359-4106-981f-60aeabbf13f4\">\n",
              "  <button class=\"colab-df-quickchart\" onclick=\"quickchart('df-21f31e60-a359-4106-981f-60aeabbf13f4')\"\n",
              "            title=\"Suggest charts.\"\n",
              "            style=\"display:none;\">\n",
              "\n",
              "<svg xmlns=\"http://www.w3.org/2000/svg\" height=\"24px\"viewBox=\"0 0 24 24\"\n",
              "     width=\"24px\">\n",
              "    <g>\n",
              "        <path d=\"M19 3H5c-1.1 0-2 .9-2 2v14c0 1.1.9 2 2 2h14c1.1 0 2-.9 2-2V5c0-1.1-.9-2-2-2zM9 17H7v-7h2v7zm4 0h-2V7h2v10zm4 0h-2v-4h2v4z\"/>\n",
              "    </g>\n",
              "</svg>\n",
              "  </button>\n",
              "\n",
              "<style>\n",
              "  .colab-df-quickchart {\n",
              "      --bg-color: #E8F0FE;\n",
              "      --fill-color: #1967D2;\n",
              "      --hover-bg-color: #E2EBFA;\n",
              "      --hover-fill-color: #174EA6;\n",
              "      --disabled-fill-color: #AAA;\n",
              "      --disabled-bg-color: #DDD;\n",
              "  }\n",
              "\n",
              "  [theme=dark] .colab-df-quickchart {\n",
              "      --bg-color: #3B4455;\n",
              "      --fill-color: #D2E3FC;\n",
              "      --hover-bg-color: #434B5C;\n",
              "      --hover-fill-color: #FFFFFF;\n",
              "      --disabled-bg-color: #3B4455;\n",
              "      --disabled-fill-color: #666;\n",
              "  }\n",
              "\n",
              "  .colab-df-quickchart {\n",
              "    background-color: var(--bg-color);\n",
              "    border: none;\n",
              "    border-radius: 50%;\n",
              "    cursor: pointer;\n",
              "    display: none;\n",
              "    fill: var(--fill-color);\n",
              "    height: 32px;\n",
              "    padding: 0;\n",
              "    width: 32px;\n",
              "  }\n",
              "\n",
              "  .colab-df-quickchart:hover {\n",
              "    background-color: var(--hover-bg-color);\n",
              "    box-shadow: 0 1px 2px rgba(60, 64, 67, 0.3), 0 1px 3px 1px rgba(60, 64, 67, 0.15);\n",
              "    fill: var(--button-hover-fill-color);\n",
              "  }\n",
              "\n",
              "  .colab-df-quickchart-complete:disabled,\n",
              "  .colab-df-quickchart-complete:disabled:hover {\n",
              "    background-color: var(--disabled-bg-color);\n",
              "    fill: var(--disabled-fill-color);\n",
              "    box-shadow: none;\n",
              "  }\n",
              "\n",
              "  .colab-df-spinner {\n",
              "    border: 2px solid var(--fill-color);\n",
              "    border-color: transparent;\n",
              "    border-bottom-color: var(--fill-color);\n",
              "    animation:\n",
              "      spin 1s steps(1) infinite;\n",
              "  }\n",
              "\n",
              "  @keyframes spin {\n",
              "    0% {\n",
              "      border-color: transparent;\n",
              "      border-bottom-color: var(--fill-color);\n",
              "      border-left-color: var(--fill-color);\n",
              "    }\n",
              "    20% {\n",
              "      border-color: transparent;\n",
              "      border-left-color: var(--fill-color);\n",
              "      border-top-color: var(--fill-color);\n",
              "    }\n",
              "    30% {\n",
              "      border-color: transparent;\n",
              "      border-left-color: var(--fill-color);\n",
              "      border-top-color: var(--fill-color);\n",
              "      border-right-color: var(--fill-color);\n",
              "    }\n",
              "    40% {\n",
              "      border-color: transparent;\n",
              "      border-right-color: var(--fill-color);\n",
              "      border-top-color: var(--fill-color);\n",
              "    }\n",
              "    60% {\n",
              "      border-color: transparent;\n",
              "      border-right-color: var(--fill-color);\n",
              "    }\n",
              "    80% {\n",
              "      border-color: transparent;\n",
              "      border-right-color: var(--fill-color);\n",
              "      border-bottom-color: var(--fill-color);\n",
              "    }\n",
              "    90% {\n",
              "      border-color: transparent;\n",
              "      border-bottom-color: var(--fill-color);\n",
              "    }\n",
              "  }\n",
              "</style>\n",
              "\n",
              "  <script>\n",
              "    async function quickchart(key) {\n",
              "      const quickchartButtonEl =\n",
              "        document.querySelector('#' + key + ' button');\n",
              "      quickchartButtonEl.disabled = true;  // To prevent multiple clicks.\n",
              "      quickchartButtonEl.classList.add('colab-df-spinner');\n",
              "      try {\n",
              "        const charts = await google.colab.kernel.invokeFunction(\n",
              "            'suggestCharts', [key], {});\n",
              "      } catch (error) {\n",
              "        console.error('Error during call to suggestCharts:', error);\n",
              "      }\n",
              "      quickchartButtonEl.classList.remove('colab-df-spinner');\n",
              "      quickchartButtonEl.classList.add('colab-df-quickchart-complete');\n",
              "    }\n",
              "    (() => {\n",
              "      let quickchartButtonEl =\n",
              "        document.querySelector('#df-21f31e60-a359-4106-981f-60aeabbf13f4 button');\n",
              "      quickchartButtonEl.style.display =\n",
              "        google.colab.kernel.accessAllowed ? 'block' : 'none';\n",
              "    })();\n",
              "  </script>\n",
              "</div>\n",
              "    </div>\n",
              "  </div>\n"
            ]
          },
          "metadata": {},
          "execution_count": 186
        }
      ]
    },
    {
      "cell_type": "code",
      "source": [
        "reviews.info()"
      ],
      "metadata": {
        "colab": {
          "base_uri": "https://localhost:8080/"
        },
        "id": "NjKXS9PgPflC",
        "outputId": "297f9a0f-abd5-4614-dae1-9c6923ac28f8"
      },
      "execution_count": 187,
      "outputs": [
        {
          "output_type": "stream",
          "name": "stdout",
          "text": [
            "<class 'pandas.core.frame.DataFrame'>\n",
            "RangeIndex: 115 entries, 0 to 114\n",
            "Data columns (total 21 columns):\n",
            " #   Column                   Non-Null Count  Dtype         \n",
            "---  ------                   --------------  -----         \n",
            " 0   Date                     115 non-null    datetime64[ns]\n",
            " 1   User Name                115 non-null    object        \n",
            " 2   User Position            113 non-null    object        \n",
            " 3   Department               115 non-null    object        \n",
            " 4   Employees                115 non-null    object        \n",
            " 5   Use Period               115 non-null    object        \n",
            " 6   Overall Rating           115 non-null    int64         \n",
            " 7   Ease of Use              115 non-null    int64         \n",
            " 8   Customer Service         115 non-null    int64         \n",
            " 9   Features                 115 non-null    int64         \n",
            " 10  Value for Money          110 non-null    float64       \n",
            " 11  Likelihood to Recommend  115 non-null    int64         \n",
            " 12  Headline                 115 non-null    object        \n",
            " 13  Overall Rev              94 non-null     object        \n",
            " 14  Pros                     115 non-null    object        \n",
            " 15  Cons                     115 non-null    object        \n",
            " 16  Alternative Considered   20 non-null     object        \n",
            " 17  Reasons for Choosing     53 non-null     object        \n",
            " 18  Switched From            47 non-null     object        \n",
            " 19  Reasons for Switching    80 non-null     object        \n",
            " 20  Vendor Response          4 non-null      object        \n",
            "dtypes: datetime64[ns](1), float64(1), int64(5), object(14)\n",
            "memory usage: 19.0+ KB\n"
          ]
        }
      ]
    },
    {
      "cell_type": "markdown",
      "source": [
        "## UNIQUE VALUES"
      ],
      "metadata": {
        "id": "EoW0kH8ZWjep"
      }
    },
    {
      "cell_type": "code",
      "source": [
        "unique_value_counts = reviews.nunique()\n",
        "\n",
        "# Print the number of unique values for each column\n",
        "print(unique_value_counts)"
      ],
      "metadata": {
        "colab": {
          "base_uri": "https://localhost:8080/"
        },
        "id": "ybsmm7TiVewf",
        "outputId": "c3aedb08-423c-4eea-d044-f13e56ccab17"
      },
      "execution_count": 188,
      "outputs": [
        {
          "output_type": "stream",
          "name": "stdout",
          "text": [
            "Date                        80\n",
            "User Name                  113\n",
            "User Position               22\n",
            "Department                  14\n",
            "Employees                    5\n",
            "Use Period                   5\n",
            "Overall Rating               3\n",
            "Ease of Use                  5\n",
            "Customer Service             5\n",
            "Features                     4\n",
            "Value for Money              3\n",
            "Likelihood to Recommend      6\n",
            "Headline                   112\n",
            "Overall Rev                 94\n",
            "Pros                       115\n",
            "Cons                       115\n",
            "Alternative Considered      12\n",
            "Reasons for Choosing        53\n",
            "Switched From               14\n",
            "Reasons for Switching       80\n",
            "Vendor Response              4\n",
            "dtype: int64\n"
          ]
        }
      ]
    },
    {
      "cell_type": "markdown",
      "source": [
        "### User Position"
      ],
      "metadata": {
        "id": "BHH_ijnGn5cc"
      }
    },
    {
      "cell_type": "code",
      "source": [
        "# Get the counts of each unique value in the \"User Position\" column\n",
        "position_counts = reviews['User Position'].value_counts()\n",
        "\n",
        "# Print the number of each unique value with its count\n",
        "print(\"User Position Counts:\")\n",
        "print(position_counts)"
      ],
      "metadata": {
        "colab": {
          "base_uri": "https://localhost:8080/"
        },
        "id": "wOOf2rU7WYk8",
        "outputId": "3b0a02f1-ce58-40d9-f2b7-88732c10880c"
      },
      "execution_count": 189,
      "outputs": [
        {
          "output_type": "stream",
          "name": "stdout",
          "text": [
            "User Position Counts:\n",
            "Owner                       52\n",
            "President                   21\n",
            "Ceo                         10\n",
            "Manager                      6\n",
            "Vice President               4\n",
            "General Manager              3\n",
            "Customer Service             2\n",
            "President/CEO                1\n",
            "Admin assistant/manager      1\n",
            "Operations Manager           1\n",
            "General manager              1\n",
            "Director of Operations       1\n",
            "President CEO                1\n",
            "Vice president               1\n",
            "Bookkeeper                   1\n",
            "Coordinator                  1\n",
            "Chief Operations Officer     1\n",
            "Store Manager                1\n",
            "Support Specialist           1\n",
            "production manager           1\n",
            "Store General Manager        1\n",
            "Route Operations Manager     1\n",
            "Name: User Position, dtype: int64\n"
          ]
        }
      ]
    },
    {
      "cell_type": "markdown",
      "source": [
        "#### Standardize \"User Position\" values by converting any value containing \"manager\" to \"Manager\""
      ],
      "metadata": {
        "id": "KNqNFJLcrThr"
      }
    },
    {
      "cell_type": "code",
      "source": [
        "reviews['User Position'] = reviews['User Position'].str.replace(r'.*manager.*', 'Manager', case=False)\n",
        "\n",
        "# Get the updated counts of each unique value in the \"User Position\" column\n",
        "position_counts = reviews['User Position'].value_counts()\n",
        "\n",
        "# Print the number of each unique value with its count\n",
        "print(\"User Position Counts:\")\n",
        "print(position_counts)\n"
      ],
      "metadata": {
        "colab": {
          "base_uri": "https://localhost:8080/"
        },
        "id": "5IG3uHe8qFXI",
        "outputId": "d7b97d0a-835e-47e7-ec5d-dff78c9713b1"
      },
      "execution_count": 190,
      "outputs": [
        {
          "output_type": "stream",
          "name": "stdout",
          "text": [
            "User Position Counts:\n",
            "Owner                       52\n",
            "President                   21\n",
            "Manager                     16\n",
            "Ceo                         10\n",
            "Vice President               4\n",
            "Customer Service             2\n",
            "Director of Operations       1\n",
            "President/CEO                1\n",
            "President CEO                1\n",
            "Vice president               1\n",
            "Bookkeeper                   1\n",
            "Coordinator                  1\n",
            "Chief Operations Officer     1\n",
            "Support Specialist           1\n",
            "Name: User Position, dtype: int64\n"
          ]
        },
        {
          "output_type": "stream",
          "name": "stderr",
          "text": [
            "<ipython-input-190-4f4a0021b6ce>:1: FutureWarning: The default value of regex will change from True to False in a future version.\n",
            "  reviews['User Position'] = reviews['User Position'].str.replace(r'.*manager.*', 'Manager', case=False)\n"
          ]
        }
      ]
    },
    {
      "cell_type": "markdown",
      "source": [
        "#### Standardize \"User Position\" values by converting any value containing \"president\" to \"President\""
      ],
      "metadata": {
        "id": "XtjGqCuMrdXL"
      }
    },
    {
      "cell_type": "code",
      "source": [
        "reviews['User Position'] = reviews['User Position'].str.replace(r'.*president.*', 'President', case=False)\n",
        "\n",
        "# Get the updated counts of each unique value in the \"User Position\" column\n",
        "position_counts = reviews['User Position'].value_counts()\n",
        "\n",
        "# Print the number of each unique value with its count\n",
        "print(\"User Position Counts:\")\n",
        "print(position_counts)\n"
      ],
      "metadata": {
        "colab": {
          "base_uri": "https://localhost:8080/"
        },
        "outputId": "d40d314d-38a0-454d-c19b-8c3263f7365f",
        "id": "CF4Nt_xbrdXM"
      },
      "execution_count": 191,
      "outputs": [
        {
          "output_type": "stream",
          "name": "stdout",
          "text": [
            "User Position Counts:\n",
            "Owner                       52\n",
            "President                   28\n",
            "Manager                     16\n",
            "Ceo                         10\n",
            "Customer Service             2\n",
            "Director of Operations       1\n",
            "Bookkeeper                   1\n",
            "Coordinator                  1\n",
            "Chief Operations Officer     1\n",
            "Support Specialist           1\n",
            "Name: User Position, dtype: int64\n"
          ]
        },
        {
          "output_type": "stream",
          "name": "stderr",
          "text": [
            "<ipython-input-191-44e3d3fc23aa>:1: FutureWarning: The default value of regex will change from True to False in a future version.\n",
            "  reviews['User Position'] = reviews['User Position'].str.replace(r'.*president.*', 'President', case=False)\n"
          ]
        }
      ]
    },
    {
      "cell_type": "code",
      "source": [
        "# Get the counts of each unique value in the \"User Position\" column\n",
        "position_counts = reviews['User Position'].value_counts()\n",
        "\n",
        "plt.figure(figsize=(12, 6))\n",
        "ax = sns.countplot(data=reviews, x='User Position', order=position_counts.index)\n",
        "plt.xticks(rotation=90)\n",
        "\n",
        "plt.xlabel('User Position')\n",
        "plt.ylabel('Count')\n",
        "plt.title('Counts of User Positions')\n",
        "\n",
        "for p in ax.patches:\n",
        "    plt.annotate(f'{p.get_height():.0f}', (p.get_x() + p.get_width() / 2., p.get_height()), ha='center', va='bottom')\n",
        "\n",
        "plt.show()"
      ],
      "metadata": {
        "colab": {
          "base_uri": "https://localhost:8080/",
          "height": 718
        },
        "id": "zwziCK6SpxgH",
        "outputId": "7ed38770-9a03-4479-8797-f95f1355ab92"
      },
      "execution_count": 200,
      "outputs": [
        {
          "output_type": "display_data",
          "data": {
            "text/plain": [
              "<Figure size 1200x600 with 1 Axes>"
            ],
            "image/png": "[encoded data removed]"
          },
          "metadata": {}
        }
      ]
    },
    {
      "cell_type": "markdown",
      "source": [
        "### Department"
      ],
      "metadata": {
        "id": "CbYZmUH_n_ji"
      }
    },
    {
      "cell_type": "code",
      "source": [
        "# Get the counts of each unique value in the \"Department\" column\n",
        "department_counts = reviews['Department'].value_counts()\n",
        "\n",
        "# Print the number of each unique value with its count\n",
        "print(\"Department Counts:\")\n",
        "print(department_counts)"
      ],
      "metadata": {
        "colab": {
          "base_uri": "https://localhost:8080/"
        },
        "id": "lKDQNdv3khrp",
        "outputId": "0dbdc2fe-3786-43c9-f2f1-ac435b8c05bc"
      },
      "execution_count": 193,
      "outputs": [
        {
          "output_type": "stream",
          "name": "stdout",
          "text": [
            "Department Counts:\n",
            "Consumer Services                           41\n",
            "Retail                                      38\n",
            "Textiles                                    14\n",
            "Apparel & Fashion                            7\n",
            "Hospitality                                  5\n",
            "Individual & Family Services                 2\n",
            "Information Technology and Services          1\n",
            "Policies and ProceduresConsumer Services     1\n",
            "Management Consulting                        1\n",
            "Health Wellness and Fitness                  1\n",
            "Dairy                                        1\n",
            "Computer Software                            1\n",
            "Accounting                                   1\n",
            "SMRT                                         1\n",
            "Name: Department, dtype: int64\n"
          ]
        }
      ]
    },
    {
      "cell_type": "code",
      "source": [
        "# Get the counts of each unique value in the \"Department\" column\n",
        "department_counts = reviews['Department'].value_counts()\n",
        "\n",
        "# Create a bar plot to visualize the unique values and their counts\n",
        "plt.figure(figsize=(12, 6))\n",
        "ax = sns.barplot(x=department_counts.index, y=department_counts.values)\n",
        "plt.xticks(rotation=90)\n",
        "\n",
        "plt.xlabel('Department')\n",
        "plt.ylabel('Count')\n",
        "plt.title('Counts of Departments')\n",
        "\n",
        "for p in ax.patches:\n",
        "    ax.annotate(f'{p.get_height():.0f}', (p.get_x() + p.get_width() / 2., p.get_height()), ha='center', va='bottom')\n",
        "\n",
        "plt.show()"
      ],
      "metadata": {
        "colab": {
          "base_uri": "https://localhost:8080/",
          "height": 847
        },
        "id": "oI8FI0YUyPHi",
        "outputId": "89896e19-c0de-41a3-cac2-e51f45c17572"
      },
      "execution_count": 194,
      "outputs": [
        {
          "output_type": "display_data",
          "data": {
            "text/plain": [
              "<Figure size 1200x600 with 1 Axes>"
            ],
            "image/png": "[encoded data removed]"
          },
          "metadata": {}
        }
      ]
    },
    {
      "cell_type": "markdown",
      "source": [
        "### Employees"
      ],
      "metadata": {
        "id": "p0YcSuL2ofMK"
      }
    },
    {
      "cell_type": "code",
      "source": [
        "# Get the counts of each unique value in the \"Department\" column\n",
        "employees_counts = reviews['Employees'].value_counts()\n",
        "\n",
        "# Print the number of each unique value with its count\n",
        "print(\"Employees Counts:\")\n",
        "print(employees_counts)"
      ],
      "metadata": {
        "colab": {
          "base_uri": "https://localhost:8080/"
        },
        "id": "hTYqI4kOofMN",
        "outputId": "42cb872b-2a83-4122-8b9a-ea740d1b9987"
      },
      "execution_count": 195,
      "outputs": [
        {
          "output_type": "stream",
          "name": "stdout",
          "text": [
            "Employees Counts:\n",
            "11-50            54\n",
            "1-10             38\n",
            "51-200           21\n",
            "201-500           1\n",
            "Self-employed     1\n",
            "Name: Employees, dtype: int64\n"
          ]
        }
      ]
    },
    {
      "cell_type": "code",
      "source": [
        "# Get the counts of each unique value in the \"Employees\" column\n",
        "employees_counts = reviews['Employees'].value_counts()\n",
        "\n",
        "# Create a bar plot to visualize the unique values and their counts\n",
        "plt.figure(figsize=(12, 6))\n",
        "ax = sns.barplot(x=employees_counts.index, y=employees_counts.values)\n",
        "plt.xticks(rotation=90)\n",
        "\n",
        "plt.xlabel('Number of Employees')\n",
        "plt.ylabel('Count')\n",
        "plt.title('Counts of Employees')\n",
        "\n",
        "for p in ax.patches:\n",
        "    ax.annotate(f'{p.get_height():.0f}', (p.get_x() + p.get_width() / 2., p.get_height()), ha='center', va='bottom')\n",
        "\n",
        "plt.show()"
      ],
      "metadata": {
        "colab": {
          "base_uri": "https://localhost:8080/",
          "height": 649
        },
        "id": "zbGzrTb_yfIm",
        "outputId": "4e9c4d21-1e7d-424c-905c-11e59b822a4e"
      },
      "execution_count": 196,
      "outputs": [
        {
          "output_type": "display_data",
          "data": {
            "text/plain": [
              "<Figure size 1200x600 with 1 Axes>"
            ],
            "image/png": "[encoded data removed]"
          },
          "metadata": {}
        }
      ]
    },
    {
      "cell_type": "markdown",
      "source": [
        "### Use Period"
      ],
      "metadata": {
        "id": "3krL516-oz2E"
      }
    },
    {
      "cell_type": "code",
      "source": [
        "# Get the counts of each unique value in the \"Department\" column\n",
        "use_counts = reviews['Use Period'].value_counts()\n",
        "\n",
        "# Print the number of each unique value with its count\n",
        "print(\"Use Period Counts:\")\n",
        "print(use_counts)"
      ],
      "metadata": {
        "colab": {
          "base_uri": "https://localhost:8080/"
        },
        "outputId": "ed404520-362d-49a1-8122-878a9bcb8f12",
        "id": "YuXBz-Uqoz2Q"
      },
      "execution_count": 197,
      "outputs": [
        {
          "output_type": "stream",
          "name": "stdout",
          "text": [
            "Use Period Counts:\n",
            "Less than 6 months     49\n",
            "2+ years               32\n",
            "1-2 years              17\n",
            "6-12 months            16\n",
            "I used a free trial     1\n",
            "Name: Use Period, dtype: int64\n"
          ]
        }
      ]
    },
    {
      "cell_type": "code",
      "source": [
        "# Get the counts of each unique value in the \"Use Period\" column\n",
        "use_period_counts = reviews['Use Period'].value_counts()\n",
        "\n",
        "plt.figure(figsize=(12, 6))\n",
        "ax = sns.barplot(x=use_period_counts.index, y=use_period_counts.values)\n",
        "plt.xticks(rotation=90)\n",
        "\n",
        "plt.xlabel('Use Period')\n",
        "plt.ylabel('Count')\n",
        "plt.title('Counts of Use Periods')\n",
        "\n",
        "for p in ax.patches:\n",
        "    ax.annotate(f'{p.get_height():.0f}', (p.get_x() + p.get_width() / 2., p.get_height()), ha='center', va='bottom')\n",
        "\n",
        "plt.show()"
      ],
      "metadata": {
        "colab": {
          "base_uri": "https://localhost:8080/",
          "height": 686
        },
        "id": "UBLWgYtWzIYQ",
        "outputId": "0d699a33-6516-485f-8fe5-08907e78f62f"
      },
      "execution_count": 198,
      "outputs": [
        {
          "output_type": "display_data",
          "data": {
            "text/plain": [
              "<Figure size 1200x600 with 1 Axes>"
            ],
            "image/png": "[encoded data removed]"
          },
          "metadata": {}
        }
      ]
    }
  ]
}